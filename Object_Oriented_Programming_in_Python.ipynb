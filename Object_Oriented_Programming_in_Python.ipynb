{
  "cells": [
    {
      "cell_type": "markdown",
      "metadata": {
        "id": "view-in-github",
        "colab_type": "text"
      },
      "source": [
        "<a href=\"https://colab.research.google.com/github/Arshnoor7/Notes-Object-Oriented-Programming-in-Python/blob/main/Object_Oriented_Programming_in_Python.ipynb\" target=\"_parent\"><img src=\"https://colab.research.google.com/assets/colab-badge.svg\" alt=\"Open In Colab\"/></a>"
      ]
    },
    {
      "cell_type": "markdown",
      "source": [
        "# SECTION - I - Classes and Objects"
      ],
      "metadata": {
        "id": "4912JSpfmiWa"
      }
    },
    {
      "cell_type": "markdown",
      "source": [
        "1.1"
      ],
      "metadata": {
        "id": "-JVrg-ukxx8n"
      }
    },
    {
      "cell_type": "code",
      "execution_count": 1,
      "metadata": {
        "id": "_UejL4pk_-WC"
      },
      "outputs": [],
      "source": [
        "# position, name, age, level, salary\n",
        "se1 = [\"software engineer\", \"Max\", 20, \"Junior\", 5000]\n",
        "se2 = [\"software engineer\", \"Lisa\", 25, \"Senior\", 7000]"
      ]
    },
    {
      "cell_type": "markdown",
      "source": [
        "1.2"
      ],
      "metadata": {
        "id": "CtLCclJVxywv"
      }
    },
    {
      "cell_type": "code",
      "execution_count": 2,
      "metadata": {
        "id": "gRbSgETGAZq9"
      },
      "outputs": [],
      "source": [
        "# class (blueprint of data structure)\n",
        "class SoftwareEngineer:\n",
        "\n",
        "    # Class Attributes\n",
        "    alias = \"Keyboard Magician\"\n",
        "\n",
        "    # Special function to initialise our object (Constructor)\n",
        "    # Herein, self attribute will always be there\n",
        "    def __init__(self, name, age, level, salary):\n",
        "\n",
        "        # So the below mentioned attributes with a self keyword,\n",
        "        # are known as instance attributes and can be used inside the class.\n",
        "        # the attributes defined outside this function are called Class Attributes.\n",
        "\n",
        "        self.name = name\n",
        "        self.age = age\n",
        "        self.level = level\n",
        "        self.salary = salary\n"
      ]
    },
    {
      "cell_type": "markdown",
      "source": [
        "1.3"
      ],
      "metadata": {
        "id": "xyRJvhm9xz5c"
      }
    },
    {
      "cell_type": "code",
      "execution_count": 3,
      "metadata": {
        "id": "pXTerKJTAsTB"
      },
      "outputs": [],
      "source": [
        "# Difference between Instance and Class Attributes:\n",
        "\n",
        "# Instance Attributes belong to a specific object and not to the whole Class\n",
        "# i.e., we can write: se1.alias, SoftwareEnginner.alias\n",
        "# but not : SoftwareEngineer.name"
      ]
    },
    {
      "cell_type": "markdown",
      "source": [
        "1.4"
      ],
      "metadata": {
        "id": "DJS8Abn8x0_h"
      }
    },
    {
      "cell_type": "code",
      "execution_count": 4,
      "metadata": {
        "id": "tRjW3N2KAxWl",
        "colab": {
          "base_uri": "https://localhost:8080/"
        },
        "outputId": "68c29f73-c857-4fa7-d70d-5a9a3a4394a0"
      },
      "outputs": [
        {
          "output_type": "stream",
          "name": "stdout",
          "text": [
            "Max 20\n"
          ]
        }
      ],
      "source": [
        "# instance of class (object)\n",
        "se1= SoftwareEngineer(\"Max\", 20, \"Junior\", 5000)\n",
        "print(se1.name, se1.age)"
      ]
    },
    {
      "cell_type": "markdown",
      "source": [
        "# SECTION - II(a) - Functions and Classes"
      ],
      "metadata": {
        "id": "6EZeXDS3nILX"
      }
    },
    {
      "cell_type": "markdown",
      "source": [
        "2.1.1"
      ],
      "metadata": {
        "id": "RQN35Jurx4_d"
      }
    },
    {
      "cell_type": "code",
      "execution_count": 5,
      "metadata": {
        "id": "PFNZjaLUBfow"
      },
      "outputs": [],
      "source": [
        "# position, name, age, level, salary\n",
        "se1 = [\"software engineer\", \"Max\", 20, \"Junior\", 5000]\n",
        "se2 = [\"software engineer\", \"Lisa\", 25, \"Senior\", 7000]\n"
      ]
    },
    {
      "cell_type": "markdown",
      "source": [
        "2.1.2"
      ],
      "metadata": {
        "id": "Xtrb3ghyx6pE"
      }
    },
    {
      "cell_type": "code",
      "execution_count": 6,
      "metadata": {
        "id": "-Htyk2FsBgk8",
        "colab": {
          "base_uri": "https://localhost:8080/"
        },
        "outputId": "6ff3ac95-4619-4143-dc1c-9bcf2b3d23a3"
      },
      "outputs": [
        {
          "output_type": "stream",
          "name": "stdout",
          "text": [
            "Max is writing code\n"
          ]
        }
      ],
      "source": [
        "# Function declaration outside the class\n",
        "\n",
        "def code(se):\n",
        "    print(f\"{se[1]} is writing code\")\n",
        "\n",
        "code(se1)\n"
      ]
    },
    {
      "cell_type": "markdown",
      "source": [
        "2.1.3"
      ],
      "metadata": {
        "id": "lKReFXNxx7x2"
      }
    },
    {
      "cell_type": "code",
      "execution_count": 7,
      "metadata": {
        "id": "7NZCsLOuBihC"
      },
      "outputs": [],
      "source": [
        "# class (blueprint of data structure)\n",
        "\n",
        "class SoftwareEngineer:\n",
        "\n",
        "    alias = \"Keyboard Magician\"\n",
        "\n",
        "    def __init__(self, name, age, level, salary):\n",
        "\n",
        "        self.name = name\n",
        "        self.age = age\n",
        "        self.level = level\n",
        "        self.salary = salary\n",
        "\n",
        "    # So, the below declared is an instance method:\n",
        "\n",
        "    # Here, in instance method as well, we need to make sure that the 1st parameter is \"self\"\n",
        "    # This \"self\" keyword would allow the instance method to access all those instance attributes,\n",
        "    # which are declared in constructor\n",
        "\n",
        "    def code(self):\n",
        "        print(f\"{self.name} is writing code\")\n",
        "\n",
        "    # Parameterised Instance Method:\n",
        "\n",
        "    def code_in_language(self, language):\n",
        "        print(f\"{self.name} is writing code in {language}\")\n",
        "\n",
        "    # Returnable Functions\n",
        "\n",
        "    def information(self):\n",
        "        information = f\"name = {self.name}, age = {self.age}, level = {self.level}\"\n",
        "        return information\n"
      ]
    },
    {
      "cell_type": "markdown",
      "source": [
        "2.1.4"
      ],
      "metadata": {
        "id": "sfdOASYMx9CD"
      }
    },
    {
      "cell_type": "code",
      "execution_count": 8,
      "metadata": {
        "id": "YOILcZ80Bm42",
        "colab": {
          "base_uri": "https://localhost:8080/"
        },
        "outputId": "752edea0-944a-4031-e35a-2f9b5d09f812"
      },
      "outputs": [
        {
          "output_type": "stream",
          "name": "stdout",
          "text": [
            "Max 20\n"
          ]
        }
      ],
      "source": [
        "# instance of class (object)\n",
        "se1= SoftwareEngineer(\"Max\", 20, \"Junior\", 5000)\n",
        "se2= SoftwareEngineer(\"Lisa\", 25, \"Senior\", 7000)\n",
        "print(se1.name, se1.age)\n"
      ]
    },
    {
      "cell_type": "markdown",
      "source": [
        "2.1.5"
      ],
      "metadata": {
        "id": "VjvA0d6fx-LF"
      }
    },
    {
      "cell_type": "code",
      "execution_count": 9,
      "metadata": {
        "id": "Ozu-MWDRBqlb",
        "colab": {
          "base_uri": "https://localhost:8080/"
        },
        "outputId": "04d3eebc-b301-4c9f-faea-8b4078c51afe"
      },
      "outputs": [
        {
          "output_type": "stream",
          "name": "stdout",
          "text": [
            "Max is writing code\n",
            "Lisa is writing code\n"
          ]
        }
      ],
      "source": [
        "# Calling Instance Method using Instance of Class\n",
        "se1.code()\n",
        "se2.code()\n"
      ]
    },
    {
      "cell_type": "markdown",
      "source": [
        "2.1.6"
      ],
      "metadata": {
        "id": "Q-PGPOpyx_ML"
      }
    },
    {
      "cell_type": "code",
      "execution_count": 10,
      "metadata": {
        "id": "8c3ySe-kBrsC",
        "colab": {
          "base_uri": "https://localhost:8080/"
        },
        "outputId": "0a72c22f-9a29-49e0-c861-d913287a4d6f"
      },
      "outputs": [
        {
          "output_type": "stream",
          "name": "stdout",
          "text": [
            "Max is writing code in Python\n",
            "Lisa is writing code in C++\n"
          ]
        }
      ],
      "source": [
        "# Calling the Parameterised Instance Method\n",
        "se1.code_in_language(\"Python\")\n",
        "se2.code_in_language(\"C++\")\n"
      ]
    },
    {
      "cell_type": "markdown",
      "source": [
        "2.1.7"
      ],
      "metadata": {
        "id": "F0pkMOPQyA2i"
      }
    },
    {
      "cell_type": "code",
      "execution_count": 11,
      "metadata": {
        "id": "TK9EShhWBtzR",
        "colab": {
          "base_uri": "https://localhost:8080/"
        },
        "outputId": "5647dc0c-ac61-4411-a666-0f37c8cb0677"
      },
      "outputs": [
        {
          "output_type": "stream",
          "name": "stdout",
          "text": [
            "name = Max, age = 20, level = Junior\n"
          ]
        }
      ],
      "source": [
        "# Calling the Instance method which returns information too\n",
        "print(se1.information())\n"
      ]
    },
    {
      "cell_type": "markdown",
      "source": [
        "2.1.8"
      ],
      "metadata": {
        "id": "sSykPg28yB1T"
      }
    },
    {
      "cell_type": "code",
      "execution_count": 12,
      "metadata": {
        "id": "joQ5kDqeBvm2"
      },
      "outputs": [],
      "source": [
        "# Note: We do not pass \"self\" as a parameter while calling an instance method or constructor,\n",
        "# it is because it is already included for us as the first parameter.\n",
        "\n",
        "# So basically the self object specifies the instance of a particular object."
      ]
    },
    {
      "cell_type": "markdown",
      "source": [
        "# SECTION - II(b) - Some Special Instance Methods"
      ],
      "metadata": {
        "id": "4rPCCZ3xnT2o"
      }
    },
    {
      "cell_type": "markdown",
      "source": [
        "2.2.1"
      ],
      "metadata": {
        "id": "wvAz95vMyFxn"
      }
    },
    {
      "cell_type": "code",
      "execution_count": 13,
      "metadata": {
        "id": "iRQzO5WUCGDG"
      },
      "outputs": [],
      "source": [
        "# --------------------\n",
        "# SECTION - II(b) - Some Special Instance Methods\n",
        "# --------------------\n",
        "\n",
        "# position, name, age, level, salary\n",
        "se1 = [\"software engineer\", \"Max\", 20, \"Junior\", 5000]\n",
        "se2 = [\"software engineer\", \"Lisa\", 25, \"Senior\", 7000]\n"
      ]
    },
    {
      "cell_type": "markdown",
      "source": [
        "2.2.2"
      ],
      "metadata": {
        "id": "NTxIsjJByG35"
      }
    },
    {
      "cell_type": "code",
      "execution_count": 14,
      "metadata": {
        "id": "EdI8WA0FCWbp",
        "outputId": "4b945604-fbc4-4e21-9364-0223eb1a1599",
        "colab": {
          "base_uri": "https://localhost:8080/"
        }
      },
      "outputs": [
        {
          "output_type": "stream",
          "name": "stdout",
          "text": [
            "Max is writing code\n"
          ]
        }
      ],
      "source": [
        "# Function declaration outside the class\n",
        "def code(se):\n",
        "    print(f\"{se[1]} is writing code\")\n",
        "\n",
        "code(se1)\n"
      ]
    },
    {
      "cell_type": "markdown",
      "source": [
        "2.2.3"
      ],
      "metadata": {
        "id": "7z-MpL5xyIHl"
      }
    },
    {
      "cell_type": "code",
      "execution_count": 15,
      "metadata": {
        "id": "T6GskpEMCY3d"
      },
      "outputs": [],
      "source": [
        "# class (blueprint of data structure)\n",
        "class SoftwareEngineer:\n",
        "\n",
        "    alias = \"Keyboard Magician\"\n",
        "\n",
        "    def __init__(self, name, age, level, salary):\n",
        "\n",
        "        self.name = name\n",
        "        self.age = age\n",
        "        self.level = level\n",
        "        self.salary = salary\n",
        "\n",
        "    def code(self):\n",
        "        print(f\"{self.name} is writing code\")\n",
        "\n",
        "    # Parameterized Instance Method:\n",
        "\n",
        "    def code_in_language(self, language):\n",
        "        print(f\"{self.name} is writing code in {language}\")\n",
        "\n",
        "    # Returnable Functions\n",
        "\n",
        "    def information(self):\n",
        "        information = f\"name = {self.name}, age = {self.age}, level = {self.level}\"\n",
        "        return information\n",
        "\n",
        "    # SOME SPECIAL METHODS:\n",
        "\n",
        "    # These are called \"Double Underscore\" OR \"d underscore\" Methods\n",
        "    # They start with a leading \"double underscore\" and end with a \"trailing double underscore\", Ex. \"init\" function used before\n",
        "    # They are already provided for us in Python\n",
        "    # Every object already has them, So,\n",
        "    # even if we do not declare them in our program, we can use them for any object in the program, because,\n",
        "    # every object already contains implementation of such functions\n",
        "\n",
        "    # if we have defined our own \"d underscore function\", then that will be implemented instead of what already object has\n",
        "\n",
        "    # The below function will get executed whenever our object will get converted to string\n",
        "    # i.e., if we try to print an object, instead of it displaying the class of that object and\n",
        "    # the object's memory location, it will implement \"__str__\" function\n",
        "\n",
        "    def __str__(self) -> str:\n",
        "        information = f\"name = {self.name}, age = {self.age}, level = {self.level}\"\n",
        "        return information\n",
        "\n",
        "    # we can clearly see that the above function can be used instead of,\n",
        "    # our previously defined function named \"information\"\n",
        "\n",
        "    # ANOTHER Special Function: \"__eq__\"\n",
        "    # It has two mandatory parameters: \"self\" and \"other\"\n",
        "    # This is used for comparing two objects\n",
        "    # By Default (i.e. if we do not declare it in our program),\n",
        "    # It will compare the memory addresses of both the objects\n",
        "\n",
        "    def __eq__(self, other) -> str:\n",
        "        return self.name == other.name and self.age == other.age\n"
      ]
    },
    {
      "cell_type": "markdown",
      "source": [
        "2.2.4"
      ],
      "metadata": {
        "id": "gOXo2eiFyK6g"
      }
    },
    {
      "cell_type": "code",
      "execution_count": 16,
      "metadata": {
        "id": "XEsrR1vGCh4I",
        "outputId": "e25c6750-443a-4edc-f4b0-a4a843076ba3",
        "colab": {
          "base_uri": "https://localhost:8080/"
        }
      },
      "outputs": [
        {
          "output_type": "stream",
          "name": "stdout",
          "text": [
            "Max 20\n"
          ]
        }
      ],
      "source": [
        "# instance of class (object)\n",
        "se1= SoftwareEngineer(\"Max\", 20, \"Junior\", 5000)\n",
        "se2= SoftwareEngineer(\"Lisa\", 25, \"Senior\", 7000)\n",
        "se3= SoftwareEngineer(\"Lisa\", 25, \"Senior\", 7000)\n",
        "print(se1.name, se1.age)"
      ]
    },
    {
      "cell_type": "markdown",
      "source": [
        "2.2.5"
      ],
      "metadata": {
        "id": "4xB0q1yRyMEW"
      }
    },
    {
      "cell_type": "code",
      "execution_count": 17,
      "metadata": {
        "id": "hbbDcFW_CjhX",
        "outputId": "1778097a-7294-4d0a-bda1-6095e4efda99",
        "colab": {
          "base_uri": "https://localhost:8080/"
        }
      },
      "outputs": [
        {
          "output_type": "stream",
          "name": "stdout",
          "text": [
            "Max is writing code\n",
            "Lisa is writing code\n",
            "Max is writing code in Python\n"
          ]
        }
      ],
      "source": [
        "se1.code()\n",
        "se2.code()\n",
        "\n",
        "se1.code_in_language(\"Python\")"
      ]
    },
    {
      "cell_type": "markdown",
      "source": [
        "# SECTION - II(c) - Functions with implementation using Decorators"
      ],
      "metadata": {
        "id": "plVTcdrvnaaE"
      }
    },
    {
      "cell_type": "markdown",
      "source": [
        "2.3.1"
      ],
      "metadata": {
        "id": "bGWFvdgbyPh0"
      }
    },
    {
      "cell_type": "code",
      "execution_count": 18,
      "metadata": {
        "id": "GyDbIjbvC5EV"
      },
      "outputs": [],
      "source": [
        "# --------------------\n",
        "# SECTION - II(c) - Functions with implementation using Decorators\n",
        "# --------------------\n",
        "\n",
        "# position, name, age, level, salary\n",
        "se1 = [\"software engineer\", \"Max\", 20, \"Junior\", 5000]\n",
        "se2 = [\"software engineer\", \"Lisa\", 25, \"Senior\", 7000]\n"
      ]
    },
    {
      "cell_type": "markdown",
      "source": [
        "2.3.2"
      ],
      "metadata": {
        "id": "5KySlHTtyQmH"
      }
    },
    {
      "cell_type": "code",
      "execution_count": 19,
      "metadata": {
        "id": "S7IQEzd-DVVg",
        "outputId": "d8430016-ec23-42c3-fc84-e201fa904af9",
        "colab": {
          "base_uri": "https://localhost:8080/"
        }
      },
      "outputs": [
        {
          "output_type": "stream",
          "name": "stdout",
          "text": [
            "Max is writing code\n"
          ]
        }
      ],
      "source": [
        "# Function declaration outside the class\n",
        "\n",
        "def code(se):\n",
        "    print(f\"{se[1]} is writing code\")\n",
        "\n",
        "code(se1)\n"
      ]
    },
    {
      "cell_type": "markdown",
      "source": [
        "2.3.3"
      ],
      "metadata": {
        "id": "fPQzSzepyR2X"
      }
    },
    {
      "cell_type": "code",
      "execution_count": 20,
      "metadata": {
        "id": "DYwDiZEXDXCV"
      },
      "outputs": [],
      "source": [
        "# class (blueprint of data structure)\n",
        "\n",
        "class SoftwareEngineer:\n",
        "\n",
        "    alias = \"Keyboard Magician\"\n",
        "\n",
        "    def __init__(self, name, age, level, salary):\n",
        "\n",
        "        self.name = name\n",
        "        self.age = age\n",
        "        self.level = level\n",
        "        self.salary = salary\n",
        "\n",
        "    def code(self):\n",
        "        print(f\"{self.name} is writing code\")\n",
        "\n",
        "    # Parameterised Instance Method:\n",
        "\n",
        "    def code_in_language(self, language):\n",
        "        print(f\"{self.name} is writing code in {language}\")\n",
        "\n",
        "    # Returnable Functions\n",
        "\n",
        "    def information(self):\n",
        "        information = f\"name = {self.name}, age = {self.age}, level = {self.level}\"\n",
        "        return information\n",
        "\n",
        "    def __str__(self) -> str:\n",
        "        information = f\"name = {self.name}, age = {self.age}, level = {self.level}\"\n",
        "        return information\n",
        "\n",
        "    def __eq__(self, other) -> str:\n",
        "        return self.name == other.name and self.age == other.age\n",
        "\n",
        "    # Functions without the \"self\" parameter\n",
        "    # May be intentional / unintentional according to the programmer\n",
        "\n",
        "    # If we try to call this function using an object of class by passing \"age\" (here) as a parameter,\n",
        "    # the error which will pop in that: \"one positional argument was required and two were given\"\n",
        "    # REASON: As told before, for every object, \"self\" is an automatically passed parameter,\n",
        "    # Therefore the statement \"se1.entry_salary(24)\" is considered as \"self.entry_salary(self, 24)\",\n",
        "    # but our function is defined to accept only one argument\n",
        "\n",
        "    # this will work if we call it using the class name: i.e.,\n",
        "    # SoftwareEnginner.entry_salary(24)\n",
        "\n",
        "    @staticmethod\n",
        "    def entry_salary(age):\n",
        "        if age < 25:\n",
        "            return 5000\n",
        "        if age < 30:\n",
        "            return 7000\n",
        "        return 9000\n"
      ]
    },
    {
      "cell_type": "markdown",
      "source": [
        "2.3.4"
      ],
      "metadata": {
        "id": "gZrIcmAgyTRP"
      }
    },
    {
      "cell_type": "code",
      "execution_count": 21,
      "metadata": {
        "id": "kb2n0niZDZaF",
        "outputId": "03d06676-566f-418f-b407-b11731063646",
        "colab": {
          "base_uri": "https://localhost:8080/"
        }
      },
      "outputs": [
        {
          "output_type": "stream",
          "name": "stdout",
          "text": [
            "Max 20\n",
            "Max is writing code\n",
            "Lisa is writing code\n",
            "Max is writing code in Python\n",
            "Lisa is writing code in C++\n"
          ]
        }
      ],
      "source": [
        "# instance of class (object)\n",
        "se1= SoftwareEngineer(\"Max\", 20, \"Junior\", 5000)\n",
        "se2= SoftwareEngineer(\"Lisa\", 25, \"Senior\", 7000)\n",
        "se3= SoftwareEngineer(\"Lisa\", 25, \"Senior\", 7000)\n",
        "print(se1.name, se1.age)\n",
        "\n",
        "se1.code()\n",
        "se2.code()\n",
        "\n",
        "se1.code_in_language(\"Python\")\n",
        "se2.code_in_language(\"C++\")\n"
      ]
    },
    {
      "cell_type": "markdown",
      "source": [
        "2.3.5"
      ],
      "metadata": {
        "id": "rMzQlUSvyVSF"
      }
    },
    {
      "cell_type": "code",
      "execution_count": 22,
      "metadata": {
        "id": "yQN3Uy1sDbkj",
        "outputId": "39f27333-63dd-46f3-96f7-8597e39b50da",
        "colab": {
          "base_uri": "https://localhost:8080/"
        }
      },
      "outputs": [
        {
          "output_type": "stream",
          "name": "stdout",
          "text": [
            "name = Max, age = 20, level = Junior\n",
            "name = Max, age = 20, level = Junior\n",
            "True\n"
          ]
        }
      ],
      "source": [
        "print(se1.information())\n",
        "\n",
        "print(se1)\n",
        "\n",
        "print(se2 == se3)\n"
      ]
    },
    {
      "cell_type": "markdown",
      "source": [
        "2.3.6"
      ],
      "metadata": {
        "id": "lhpVawF9yWdj"
      }
    },
    {
      "cell_type": "code",
      "execution_count": 23,
      "metadata": {
        "id": "28dskMSKDd7x",
        "outputId": "bffa679b-7614-4346-aa2b-e154b74b295c",
        "colab": {
          "base_uri": "https://localhost:8080/"
        }
      },
      "outputs": [
        {
          "output_type": "stream",
          "name": "stdout",
          "text": [
            "7000\n",
            "<function SoftwareEngineer.entry_salary at 0x7f0b0ce8ec20>\n"
          ]
        }
      ],
      "source": [
        "# entry_salary function called using the \"Class Name\"\n",
        "# instead of object\n",
        "print(SoftwareEngineer.entry_salary(27))\n",
        "\n",
        "# So if we want to access an instance method which has no attribute \"self\",\n",
        "# We use a \"DECORATOR\" named \"@staticmethod\", which allows us to call that function,\n",
        "# with the help of an object of that class too\n",
        "\n",
        "print(se1.entry_salary)\n"
      ]
    },
    {
      "cell_type": "markdown",
      "source": [
        "# SECTION - III(a) - Inheritance"
      ],
      "metadata": {
        "id": "yjRUDPmrnfjx"
      }
    },
    {
      "cell_type": "code",
      "execution_count": 24,
      "metadata": {
        "id": "D-GwTkWPEK5_"
      },
      "outputs": [],
      "source": [
        "# Process in which one class takes in attributes and methods of one class,\n",
        "# So, this newly formed class is then called \"Child Class\" and\n",
        "# Other one is called \"Parent Class\"\n",
        "\n",
        "# Using Inheritance, we can:\n",
        "# 1. Inherit a Class\n",
        "# 2. Extend a Class\n",
        "# 3. OverRide a Class\n"
      ]
    },
    {
      "cell_type": "markdown",
      "source": [
        "3.1.1"
      ],
      "metadata": {
        "id": "CbTaE81pydYh"
      }
    },
    {
      "cell_type": "code",
      "execution_count": 25,
      "metadata": {
        "id": "Xxzi-QAwELmc"
      },
      "outputs": [],
      "source": [
        "class Employee: # Parent Class\n",
        "    def __init__(self, name, age):\n",
        "        self.name = name\n",
        "        self.age = age\n",
        "\n",
        "        # Now both the Child Classes have the above instance attributes,\n",
        "        # i.e., the \"age\" and the \"name\"\n",
        "\n",
        "    # Same goes for Instance Methods,\n",
        "    # i.e., Child Class Inherits Instance Methods as well\n",
        "\n",
        "    def work(self):\n",
        "        print(f'{self.name} is working')\n"
      ]
    },
    {
      "cell_type": "markdown",
      "source": [
        "3.1.2"
      ],
      "metadata": {
        "id": "WSp0MBwByfQO"
      }
    },
    {
      "cell_type": "code",
      "execution_count": 26,
      "metadata": {
        "id": "kYGMzxrXESxC"
      },
      "outputs": [],
      "source": [
        "class SoftwareEngineer(Employee): # Syntax for a Child Class\n",
        "    pass\n"
      ]
    },
    {
      "cell_type": "markdown",
      "source": [
        "3.1.3"
      ],
      "metadata": {
        "id": "LUtwIatcygP2"
      }
    },
    {
      "cell_type": "code",
      "execution_count": 27,
      "metadata": {
        "id": "RGMNiyEDEUkq"
      },
      "outputs": [],
      "source": [
        "class Designer(Employee): # Syntax for a Child Class\n",
        "    pass\n"
      ]
    },
    {
      "cell_type": "markdown",
      "source": [
        "3.1.4"
      ],
      "metadata": {
        "id": "zwmESAaRyhfY"
      }
    },
    {
      "cell_type": "code",
      "execution_count": 28,
      "metadata": {
        "id": "vljk-7FjEWXR",
        "outputId": "1d91b6d6-72e1-4c6b-8af4-886925f3a7c9",
        "colab": {
          "base_uri": "https://localhost:8080/"
        }
      },
      "outputs": [
        {
          "output_type": "stream",
          "name": "stdout",
          "text": [
            "Max 24\n",
            "Max is working\n",
            "Phillip 27\n",
            "Phillip is working\n"
          ]
        }
      ],
      "source": [
        "# Implementation of Child Class using the instance attributes and methods of Parent Class\n",
        "\n",
        "se = SoftwareEngineer(\"Max\", 24)\n",
        "print(se.name, se.age)\n",
        "se.work()\n",
        "\n",
        "d = Designer(\"Phillip\", 27)\n",
        "print(d.name, d.age)\n",
        "d.work()\n"
      ]
    },
    {
      "cell_type": "markdown",
      "source": [
        "# SECTION - III(b) - OverRide a Class Function using Inheritance"
      ],
      "metadata": {
        "id": "NSmDRriYn0-1"
      }
    },
    {
      "cell_type": "markdown",
      "source": [
        "3.2.1"
      ],
      "metadata": {
        "id": "0KUQ4La9yj4h"
      }
    },
    {
      "cell_type": "code",
      "execution_count": 29,
      "metadata": {
        "id": "HGQjVqRZIZdn"
      },
      "outputs": [],
      "source": [
        "# --------------------\n",
        "# SECTION - III(b) - OverRide a Class Function using Inheritance\n",
        "# --------------------\n",
        "\n",
        "class Employee: # Parent Class\n",
        "    def __init__(self, name, age, salary):\n",
        "        self.name = name\n",
        "        self.age = age\n",
        "        self.salary = salary\n",
        "\n",
        "    def work(self):\n",
        "        print(f'{self.name} is working')\n"
      ]
    },
    {
      "cell_type": "markdown",
      "source": [
        "3.2.2"
      ],
      "metadata": {
        "id": "I7_1_WKVylEF"
      }
    },
    {
      "cell_type": "code",
      "execution_count": 30,
      "metadata": {
        "id": "qf-PC7osIabl"
      },
      "outputs": [],
      "source": [
        "class SoftwareEngineer(Employee): # Syntax for a Child Class\n",
        "\n",
        "    def __init__(self, name, age, salary, level):\n",
        "        super().__init__(name, age, salary)\n",
        "\n",
        "        # As this class already has the initialiser function of its Parent Class,\n",
        "        # So to initialise the already existing attributes, we call the Initialser of Parent Class,\n",
        "        # using the above statement \"super().__init__(name, age)\"\n",
        "\n",
        "        self.level = level\n",
        "\n",
        "        # So basically the above attribute \"level\" only works for SoftwareEngineer,\n",
        "        # and not the Designer\n"
      ]
    },
    {
      "cell_type": "markdown",
      "source": [
        "3.2.3"
      ],
      "metadata": {
        "id": "A5LFixDFymLZ"
      }
    },
    {
      "cell_type": "code",
      "execution_count": 31,
      "metadata": {
        "id": "uWitJ0GLIcaE"
      },
      "outputs": [],
      "source": [
        "class Designer(Employee): # Syntax for a Child Class\n",
        "    pass\n"
      ]
    },
    {
      "cell_type": "markdown",
      "source": [
        "3.2.4"
      ],
      "metadata": {
        "id": "wjQ-sXdyynSH"
      }
    },
    {
      "cell_type": "code",
      "execution_count": 32,
      "metadata": {
        "id": "bJr0Ct8nIePg",
        "outputId": "954134d6-beec-4e99-ccf8-ea019a823e38",
        "colab": {
          "base_uri": "https://localhost:8080/"
        }
      },
      "outputs": [
        {
          "output_type": "stream",
          "name": "stdout",
          "text": [
            "Max 24\n",
            "Max is working\n",
            "Junior\n"
          ]
        }
      ],
      "source": [
        "# Implementation of Child Class using the instance attributes and methods of Parent Class\n",
        "\n",
        "se = SoftwareEngineer(\"Max\", 24, 6000, \"Junior\")\n",
        "print(se.name, se.age)\n",
        "se.work()\n",
        "print(se.level)\n"
      ]
    },
    {
      "cell_type": "markdown",
      "source": [
        "3.2.5"
      ],
      "metadata": {
        "id": "edz8Ah4cyog6"
      }
    },
    {
      "cell_type": "code",
      "execution_count": 33,
      "metadata": {
        "id": "nDmk1snLIg9N",
        "outputId": "e9dc10cc-2a0c-477c-99e8-df99aa3ec334",
        "colab": {
          "base_uri": "https://localhost:8080/"
        }
      },
      "outputs": [
        {
          "output_type": "stream",
          "name": "stdout",
          "text": [
            "Phillip 27\n",
            "Phillip is working\n"
          ]
        }
      ],
      "source": [
        "d = Designer(\"Phillip\", 27, 7000)\n",
        "print(d.name, d.age)\n",
        "d.work()\n"
      ]
    },
    {
      "cell_type": "markdown",
      "source": [
        "3.2.6"
      ],
      "metadata": {
        "id": "CvCdlbrvyphr"
      }
    },
    {
      "cell_type": "code",
      "execution_count": 34,
      "metadata": {
        "id": "Sd5oX8RqIj6C"
      },
      "outputs": [],
      "source": [
        "# Basically what we have done above is,\n",
        "# We have \"over-ridden\" the Parent Class Initialiser Function for a SoftWare Engineer,\n",
        "# Note that it is mandatory to use \"super().__init__()\" for correct initialisation of the object.\n",
        "# Application: We wanted to define \"level\" for a Software Engineer but not the Designer"
      ]
    },
    {
      "cell_type": "markdown",
      "metadata": {
        "id": "yT3UfAeGIeCe"
      },
      "source": [
        "# SECTION - III(c) - Extend a Class Functionality using Inheritance"
      ]
    },
    {
      "cell_type": "markdown",
      "source": [
        "3.3.1"
      ],
      "metadata": {
        "id": "FXrg6gInysRO"
      }
    },
    {
      "cell_type": "code",
      "execution_count": 35,
      "metadata": {
        "id": "-barADtiI5QT"
      },
      "outputs": [],
      "source": [
        "# --------------------\n",
        "# SECTION - III(c) - Extend a Class Functionality using Inheritance\n",
        "# --------------------\n",
        "\n",
        "class Employee: # Parent Class\n",
        "    def __init__(self, name, age, salary):\n",
        "        self.name = name\n",
        "        self.age = age\n",
        "        self.salary = salary\n",
        "\n",
        "    def work(self):\n",
        "        print(f'{self.name} is working')\n"
      ]
    },
    {
      "cell_type": "markdown",
      "source": [
        "3.3.2"
      ],
      "metadata": {
        "id": "2-hEbMdjytgI"
      }
    },
    {
      "cell_type": "code",
      "execution_count": 36,
      "metadata": {
        "id": "BEkO3CzvI_x3"
      },
      "outputs": [],
      "source": [
        "class SoftwareEngineer(Employee): # Syntax for a Child Class\n",
        "\n",
        "    def __init__(self, name, age, salary, level):\n",
        "\n",
        "        super().__init__(name, age, salary)\n",
        "\n",
        "        self.level = level\n",
        "\n",
        "    def debug(self):\n",
        "        print(f\"{self.name} is debugging\")\n"
      ]
    },
    {
      "cell_type": "markdown",
      "source": [
        "3.3.3"
      ],
      "metadata": {
        "id": "3W1ReqBzyv1A"
      }
    },
    {
      "cell_type": "code",
      "execution_count": 37,
      "metadata": {
        "id": "5ZNgMWqxJCwr"
      },
      "outputs": [],
      "source": [
        "class Designer(Employee): # Syntax for a Child Class\n",
        "\n",
        "    def draw(self):\n",
        "        print(f\"{self.name} is drawing\")\n"
      ]
    },
    {
      "cell_type": "markdown",
      "source": [
        "3.3.4"
      ],
      "metadata": {
        "id": "Qle-xTYYyw-C"
      }
    },
    {
      "cell_type": "code",
      "execution_count": 38,
      "metadata": {
        "id": "DV7su-_eJEyV",
        "outputId": "4829ea95-a169-4c59-bb36-16228fc75922",
        "colab": {
          "base_uri": "https://localhost:8080/"
        }
      },
      "outputs": [
        {
          "output_type": "stream",
          "name": "stdout",
          "text": [
            "Max 24\n",
            "Max is working\n",
            "Junior\n"
          ]
        }
      ],
      "source": [
        "# Implementation of Child Class using the instance attributes and methods of Parent Class\n",
        "\n",
        "se = SoftwareEngineer(\"Max\", 24, 6000, \"Junior\")\n",
        "print(se.name, se.age)\n",
        "se.work()\n",
        "print(se.level)\n"
      ]
    },
    {
      "cell_type": "markdown",
      "source": [
        "3.3.5"
      ],
      "metadata": {
        "id": "IDyY_N8Pyx8X"
      }
    },
    {
      "cell_type": "code",
      "execution_count": 39,
      "metadata": {
        "id": "44jYpzezJI2D",
        "outputId": "e1309b6b-5496-4ae7-c60a-4f2154d773e5",
        "colab": {
          "base_uri": "https://localhost:8080/"
        }
      },
      "outputs": [
        {
          "output_type": "stream",
          "name": "stdout",
          "text": [
            "Phillip 27\n",
            "Phillip is working\n"
          ]
        }
      ],
      "source": [
        "d = Designer(\"Phillip\", 27, 7000)\n",
        "print(d.name, d.age)\n",
        "d.work()\n"
      ]
    },
    {
      "cell_type": "markdown",
      "source": [
        "3.3.6"
      ],
      "metadata": {
        "id": "JzEVrfC8yzD3"
      }
    },
    {
      "cell_type": "code",
      "execution_count": 40,
      "metadata": {
        "id": "Rf6a4Vy9JKdL",
        "outputId": "e9da301f-ddfb-4cfa-bd0c-41b92e5bec3b",
        "colab": {
          "base_uri": "https://localhost:8080/"
        }
      },
      "outputs": [
        {
          "output_type": "stream",
          "name": "stdout",
          "text": [
            "Max is debugging\n",
            "Phillip is drawing\n"
          ]
        }
      ],
      "source": [
        "se.debug()\n",
        "d.draw()"
      ]
    },
    {
      "cell_type": "markdown",
      "source": [
        "# SECTION - III(d) - OverRide a Class Function using Inheritance"
      ],
      "metadata": {
        "id": "IR57ScpYn91b"
      }
    },
    {
      "cell_type": "markdown",
      "source": [
        "3.4.1"
      ],
      "metadata": {
        "id": "s2CtHc7Sy1Eq"
      }
    },
    {
      "cell_type": "code",
      "execution_count": 41,
      "metadata": {
        "id": "Vq-l3TudJXe8"
      },
      "outputs": [],
      "source": [
        "# --------------------\n",
        "# SECTION - III(d) - OverRide a Class Function using Inheritance\n",
        "# --------------------\n",
        "\n",
        "# So in simple words, if we CREATE a NEW Function in Child Class:\n",
        "# (a) with same name as in Base Class -> \"Over-Riding\"\n",
        "# (b) with name not in Base Class -> \"Extending\"\n",
        "\n",
        "class Employee: # Parent Class\n",
        "    def __init__(self, name, age, salary):\n",
        "        self.name = name\n",
        "        self.age = age\n",
        "        self.salary = salary\n",
        "\n",
        "    def work(self):\n",
        "        print(f'{self.name} is working')\n"
      ]
    },
    {
      "cell_type": "markdown",
      "source": [
        "3.4.2"
      ],
      "metadata": {
        "id": "FlL4X3zey2J-"
      }
    },
    {
      "cell_type": "code",
      "execution_count": 42,
      "metadata": {
        "id": "WBUr5Gm3KGIF"
      },
      "outputs": [],
      "source": [
        "class SoftwareEngineer(Employee): # Syntax for a Child Class\n",
        "\n",
        "    def __init__(self, name, age, salary, level):\n",
        "\n",
        "        super().__init__(name, age, salary)\n",
        "\n",
        "        self.level = level\n",
        "\n",
        "    def debug(self):\n",
        "        print(f\"{self.name} is debugging\")\n",
        "\n",
        "    def work(self):\n",
        "        print(f'{self.name} is coding')\n"
      ]
    },
    {
      "cell_type": "markdown",
      "source": [
        "3.4.3"
      ],
      "metadata": {
        "id": "xxz7u7o-y3s_"
      }
    },
    {
      "cell_type": "code",
      "execution_count": 43,
      "metadata": {
        "id": "GZNK6csuKIga"
      },
      "outputs": [],
      "source": [
        "class Designer(Employee): # Syntax for a Child CLass\n",
        "\n",
        "    def draw(self):\n",
        "        print(f\"{self.name} is drawing\")\n",
        "\n",
        "    def work(self):\n",
        "        print(f'{self.name} is designing')\n"
      ]
    },
    {
      "cell_type": "markdown",
      "source": [
        "3.4.4"
      ],
      "metadata": {
        "id": "GuWUkFAvy5y3"
      }
    },
    {
      "cell_type": "code",
      "execution_count": 44,
      "metadata": {
        "id": "MSJR-p-jKKPe",
        "outputId": "f131d027-5bfc-4ca9-dd2e-0314cd42e7e3",
        "colab": {
          "base_uri": "https://localhost:8080/"
        }
      },
      "outputs": [
        {
          "output_type": "stream",
          "name": "stdout",
          "text": [
            "Max 24\n",
            "Junior\n",
            "Phillip 27\n"
          ]
        }
      ],
      "source": [
        "# Implementation of Child Class using the instance attributes and methods of Parent Class\n",
        "\n",
        "se = SoftwareEngineer(\"Max\", 24, 6000, \"Junior\")\n",
        "print(se.name, se.age)\n",
        "print(se.level)\n",
        "\n",
        "d = Designer(\"Phillip\", 27, 7000)\n",
        "print(d.name, d.age)\n"
      ]
    },
    {
      "cell_type": "markdown",
      "source": [
        "3.4.5"
      ],
      "metadata": {
        "id": "9P1or4FAy6xy"
      }
    },
    {
      "cell_type": "code",
      "execution_count": 45,
      "metadata": {
        "id": "_-f8mBPGKL1g",
        "outputId": "0e4bc248-0d27-4fa2-84ce-617c005badef",
        "colab": {
          "base_uri": "https://localhost:8080/"
        }
      },
      "outputs": [
        {
          "output_type": "stream",
          "name": "stdout",
          "text": [
            "Max is coding\n",
            "Phillip is designing\n"
          ]
        }
      ],
      "source": [
        "se.work()\n",
        "d.work()"
      ]
    },
    {
      "cell_type": "markdown",
      "source": [
        "# SECTION - IV - Extension of Inheritance"
      ],
      "metadata": {
        "id": "0ett9GbwoBDq"
      }
    },
    {
      "cell_type": "markdown",
      "source": [
        "4.1"
      ],
      "metadata": {
        "id": "U-udqSP-y-LY"
      }
    },
    {
      "cell_type": "code",
      "execution_count": 46,
      "metadata": {
        "id": "t7LHI1iwKiGn"
      },
      "outputs": [],
      "source": [
        "# --------------------\n",
        "# SECTION - IV - Extension of Inheritance\n",
        "# --------------------\n",
        "\n",
        "# POLYMORPHISM:\n",
        "# It alows us to write codes on Base Class, which can work on Child Classes as well.\n",
        "# i.e., we can use a Child Class like its Parent, retaining Child Class's own Attributes.\n",
        "\n",
        "\n",
        "class Employee: # Parent Class\n",
        "    def __init__(self, name, age, salary):\n",
        "        self.name = name\n",
        "        self.age = age\n",
        "        self.salary = salary\n",
        "\n",
        "    def work(self):\n",
        "        print(f'{self.name} is working')\n"
      ]
    },
    {
      "cell_type": "markdown",
      "source": [
        "4.2"
      ],
      "metadata": {
        "id": "4VkXl4NKy_aO"
      }
    },
    {
      "cell_type": "code",
      "execution_count": 47,
      "metadata": {
        "id": "uqcxcn_KKsSb"
      },
      "outputs": [],
      "source": [
        "class SoftwareEngineer(Employee): # Syntax for a Child Class\n",
        "\n",
        "    def __init__(self, name, age, salary, level):\n",
        "\n",
        "        super().__init__(name, age, salary)\n",
        "\n",
        "        self.level = level\n",
        "\n",
        "    def debug(self):\n",
        "        print(f\"{self.name} is debugging\")\n",
        "\n",
        "    def work(self):\n",
        "        print(f'{self.name} is coding')\n"
      ]
    },
    {
      "cell_type": "markdown",
      "source": [
        "4.3"
      ],
      "metadata": {
        "id": "sUrSNDTQzASv"
      }
    },
    {
      "cell_type": "code",
      "execution_count": 48,
      "metadata": {
        "id": "WwEAfDUPKuvk"
      },
      "outputs": [],
      "source": [
        "class Designer(Employee): # Syntax for a Child CLass\n",
        "\n",
        "    def draw(self):\n",
        "        print(f\"{self.name} is drawing\")\n",
        "\n",
        "    def work(self):\n",
        "        print(f'{self.name} is designing')\n"
      ]
    },
    {
      "cell_type": "markdown",
      "source": [
        "4.4"
      ],
      "metadata": {
        "id": "UcIvFzQczBNQ"
      }
    },
    {
      "cell_type": "code",
      "execution_count": 49,
      "metadata": {
        "id": "ao9yg0HeKw1x"
      },
      "outputs": [],
      "source": [
        "employees = [SoftwareEngineer(\"Max\", 25, 6000, \"Junior\"),\n",
        "             SoftwareEngineer(\"Lisa\", 30, 9000, \"Senior\"),\n",
        "             Designer(\"Phillip\", 27, 7000)]\n"
      ]
    },
    {
      "cell_type": "markdown",
      "source": [
        "4.5"
      ],
      "metadata": {
        "id": "XmoHjRSFzCOP"
      }
    },
    {
      "cell_type": "code",
      "execution_count": 50,
      "metadata": {
        "id": "XGhgTEpGKyYI",
        "outputId": "f4b21e50-2406-401c-9f58-fbdd690e5a43",
        "colab": {
          "base_uri": "https://localhost:8080/"
        }
      },
      "outputs": [
        {
          "output_type": "stream",
          "name": "stdout",
          "text": [
            "Max is coding\n",
            "Lisa is coding\n",
            "Phillip is designing\n"
          ]
        }
      ],
      "source": [
        "def motivate_employees(employees):\n",
        "    for employee in employees:\n",
        "        employee.work()\n",
        "\n",
        "\n",
        "motivate_employees(employees)\n"
      ]
    },
    {
      "cell_type": "markdown",
      "source": [
        "# SECTION - V(a) - Private Instance Variables"
      ],
      "metadata": {
        "id": "IyWTej47oExb"
      }
    },
    {
      "cell_type": "markdown",
      "source": [
        "5.1.1"
      ],
      "metadata": {
        "id": "zlDDzGqMzEtT"
      }
    },
    {
      "cell_type": "code",
      "execution_count": 51,
      "metadata": {
        "id": "k2HBqcGsLQxO"
      },
      "outputs": [],
      "source": [
        "# --------------------\n",
        "# SECTION - V(a) - Private Instance Variables\n",
        "# --------------------\n",
        "\n",
        "# ENCAPSULATION: Hiding of Data Implementation, For exanple, the instance variables\n",
        "# are kept hidden and there is only one Access Method outside, which can Manipulate these Variables.\n",
        "\n",
        "# Instance methods can also be kept private so that they can be used, Only INTERNALLY\n",
        "\n",
        "class SoftwareEngineer:\n",
        "\n",
        "    def __init__(self, name, age):\n",
        "        self.name = name\n",
        "        self.age = age\n",
        "\n",
        "        # We declare Private Instance Variables starting with \"_\"\n",
        "        # To initialise them, we use a Function and not the default Constructor\n",
        "        self._salary = None # Private Instance Variable\n",
        "        self.__salary1 = None\n",
        "        self._num_bugs_resolved = 0 # Private Instance Variable\n",
        "\n",
        "    # Also called \"Getter\" Function\n",
        "    def get_salary(self):\n",
        "        return self._salary\n",
        "\n",
        "    # Also called \"Setter\" Function\n",
        "    def set_salary(self, value):\n",
        "        self._salary = value\n",
        "\n",
        "    # Ideally, these two above Functions should be the only Functions who can access,\n",
        "    # Private Instance Variables\n"
      ]
    },
    {
      "cell_type": "markdown",
      "source": [
        "5.1.2"
      ],
      "metadata": {
        "id": "6C85uI0gzGRB"
      }
    },
    {
      "cell_type": "code",
      "execution_count": 52,
      "metadata": {
        "id": "bCMMvVunLfa7",
        "outputId": "459af8a2-c745-494c-f47c-7e504d1465ae",
        "colab": {
          "base_uri": "https://localhost:8080/"
        }
      },
      "outputs": [
        {
          "output_type": "stream",
          "name": "stdout",
          "text": [
            "25 Max None\n"
          ]
        }
      ],
      "source": [
        "se = SoftwareEngineer(\"Max\", 25)\n",
        "print(se.age, se.name, se._salary)"
      ]
    },
    {
      "cell_type": "markdown",
      "source": [
        "5.1.3"
      ],
      "metadata": {
        "id": "h-ggmoPozH3p"
      }
    },
    {
      "cell_type": "code",
      "execution_count": 53,
      "metadata": {
        "id": "CQVjzo5OLk2z"
      },
      "outputs": [],
      "source": [
        "# As Line 23 easily accessed \"_salary\", therefore in Python the variable with \"_\",\n",
        "# is not actually Private,\n",
        "\n",
        "# To make a variable actually Private, we preceed a variable with \"__\",\n",
        "# i.e. \"double under-score\"\n",
        "\n",
        "# STRICTLY SPEAKING:\n",
        "# \"_x\" is called \"PROTECTED\" attribute\n",
        "# \"__x\" is called \"PRIVATE\" attribute\n"
      ]
    },
    {
      "cell_type": "markdown",
      "source": [
        "5.1.4"
      ],
      "metadata": {
        "id": "y8tjVPKAzJFl"
      }
    },
    {
      "cell_type": "code",
      "execution_count": 54,
      "metadata": {
        "id": "7ZptSgoVLm0S",
        "outputId": "b2e88e85-d882-41c3-db6a-7b1b790bac3d",
        "colab": {
          "base_uri": "https://localhost:8080/"
        }
      },
      "outputs": [
        {
          "output_type": "stream",
          "name": "stdout",
          "text": [
            "6000\n"
          ]
        }
      ],
      "source": [
        "se.set_salary(6000)\n",
        "print(se.get_salary())"
      ]
    },
    {
      "cell_type": "markdown",
      "source": [
        "# SECTION - V(b) - Private Instance Methods"
      ],
      "metadata": {
        "id": "GAkCmr7roH65"
      }
    },
    {
      "cell_type": "markdown",
      "source": [
        "5.2.1"
      ],
      "metadata": {
        "id": "Kdl9dHF9zLT7"
      }
    },
    {
      "cell_type": "code",
      "execution_count": 55,
      "metadata": {
        "id": "CXwAdvMpMES_"
      },
      "outputs": [],
      "source": [
        "# --------------------\n",
        "# SECTION - V(b) - Private Instance Methods\n",
        "# --------------------\n",
        "\n",
        "class SoftwareEngineer:\n",
        "\n",
        "    def __init__(self, name, age):\n",
        "        self.name = name\n",
        "        self.age = age\n",
        "\n",
        "        self._salary = None # Private Instance Variable\n",
        "        self.__salary1 = None # Private Instance Variable\n",
        "        self._num_bugs_resolved = 0 # Private Instance Variable\n",
        "\n",
        "    def code(self):\n",
        "        self._num_bugs_resolved += 1\n",
        "\n",
        "    # Also called \"Getter\" Function\n",
        "    def get_salary(self):\n",
        "        return self._salary\n",
        "\n",
        "    # Also called \"Setter\" Function\n",
        "    def set_salary(self, base_value):\n",
        "        self._salary = self._calculate_salary(base_value)\n",
        "\n",
        "    # the names of Private Instance Methods also start with \"_\"\n",
        "\n",
        "    def _calculate_salary(self, base_value):\n",
        "        if self._num_bugs_resolved < 10:\n",
        "            return base_value\n",
        "        if self._num_bugs_resolved < 100:\n",
        "            return base_value * 2\n",
        "        return base_value * 3\n"
      ]
    },
    {
      "cell_type": "markdown",
      "source": [
        "5.2.2"
      ],
      "metadata": {
        "id": "kRncV7XvzM98"
      }
    },
    {
      "cell_type": "code",
      "execution_count": 56,
      "metadata": {
        "id": "HPJsU0cMMHJi",
        "outputId": "bc0b0dab-daeb-4855-f3ff-54678dd9d724",
        "colab": {
          "base_uri": "https://localhost:8080/"
        }
      },
      "outputs": [
        {
          "output_type": "stream",
          "name": "stdout",
          "text": [
            "25 Max None\n"
          ]
        }
      ],
      "source": [
        "se = SoftwareEngineer(\"Max\", 25)\n",
        "print(se.age, se.name, se._salary)\n"
      ]
    },
    {
      "cell_type": "markdown",
      "source": [
        "5.2.3"
      ],
      "metadata": {
        "id": "HGncY-P0zONd"
      }
    },
    {
      "cell_type": "code",
      "execution_count": 57,
      "metadata": {
        "id": "t9surEzwMJwq",
        "outputId": "e8904b4f-ea87-4bb1-efe2-3932bb098d01",
        "colab": {
          "base_uri": "https://localhost:8080/"
        }
      },
      "outputs": [
        {
          "output_type": "stream",
          "name": "stdout",
          "text": [
            "12000\n"
          ]
        }
      ],
      "source": [
        "for i in range(70):\n",
        "    se.code()\n",
        "\n",
        "se.set_salary(6000)\n",
        "print(se.get_salary())\n"
      ]
    },
    {
      "cell_type": "markdown",
      "source": [
        "# SECTION - VI(a) - Properties"
      ],
      "metadata": {
        "id": "FXGqpjVBoLU_"
      }
    },
    {
      "cell_type": "markdown",
      "source": [
        "6.1"
      ],
      "metadata": {
        "id": "G3b71XybzQvT"
      }
    },
    {
      "cell_type": "code",
      "execution_count": 58,
      "metadata": {
        "id": "wt744deHMYNn"
      },
      "outputs": [],
      "source": [
        "# --------------------\n",
        "# SECTION - VI(a) - Properties\n",
        "# --------------------\n",
        "\n",
        "# Now, we will write Getter and Setter Functions in a more \"Pythonic\" way!\n",
        "# i.e., we will use Decorators in Python\n",
        "\n",
        "class SoftwareEngineer:\n",
        "\n",
        "    def __init__(self):\n",
        "        self._salary = None # Private Instance Variable\n",
        "\n",
        "    # def get_salary(self):\n",
        "    #     return self._salary\n",
        "\n",
        "    @property\n",
        "    def salary(self):\n",
        "        return self._salary\n",
        "\n",
        "    # def set_salary(self, value):\n",
        "    #     self._salary = value\n",
        "\n",
        "    @salary.setter\n",
        "    def salary(self, value):\n",
        "        self._salary = value\n",
        "\n",
        "    # i.e. instead of the conventional way of writing Getter and Setter Functions (as in the commented 4 lines),\n",
        "    # we write them using Decorators, where:\n",
        "    # - Getter and Setter Functions get the same name as the property for which they are getter and setter (here, salary)\n",
        "    # - Decorator of Getter is the built-in Decorator: \"@property\"\n",
        "    # - Decorator of Setter is also built-in but written using the Property name as: \"@salary.setter\"\n",
        "\n",
        "\n",
        "    # General Example of another Decorator pertaining to this topic:\n",
        "\n",
        "    @salary.deleter\n",
        "    def salary(self):\n",
        "        del self._salary"
      ]
    },
    {
      "cell_type": "markdown",
      "source": [
        "6.2"
      ],
      "metadata": {
        "id": "YDteB0hmzSO_"
      }
    },
    {
      "cell_type": "code",
      "execution_count": 59,
      "metadata": {
        "id": "XE77j6cWMnbc",
        "outputId": "f1cb1b2d-84b3-499c-b04c-da27d1b63b64",
        "colab": {
          "base_uri": "https://localhost:8080/"
        }
      },
      "outputs": [
        {
          "output_type": "stream",
          "name": "stdout",
          "text": [
            "6000\n"
          ]
        }
      ],
      "source": [
        "se = SoftwareEngineer()\n",
        "\n",
        "# se.set_salary(6000)\n",
        "# print(se.get_salary())\n",
        "\n",
        "se.salary = 6000\n",
        "print(se.salary)\n"
      ]
    },
    {
      "cell_type": "markdown",
      "source": [
        "6.3"
      ],
      "metadata": {
        "id": "xQHtMuLyzS5P"
      }
    },
    {
      "cell_type": "code",
      "execution_count": 60,
      "metadata": {
        "id": "NPnyoYyDMo6M"
      },
      "outputs": [],
      "source": [
        "del se.salary  # to run the third function mentioned above\n",
        "\n",
        "# the above statement will delete the instance variable,\n",
        "# so printing anything pertaining to this variable would throw an error\n"
      ]
    }
  ],
  "metadata": {
    "colab": {
      "provenance": [],
      "collapsed_sections": [
        "4912JSpfmiWa",
        "6EZeXDS3nILX",
        "4rPCCZ3xnT2o",
        "plVTcdrvnaaE",
        "yjRUDPmrnfjx",
        "NSmDRriYn0-1",
        "yT3UfAeGIeCe",
        "IR57ScpYn91b",
        "0ett9GbwoBDq",
        "IyWTej47oExb",
        "GAkCmr7roH65",
        "FXGqpjVBoLU_"
      ],
      "include_colab_link": true
    },
    "kernelspec": {
      "display_name": "Python 3",
      "name": "python3"
    },
    "language_info": {
      "name": "python"
    }
  },
  "nbformat": 4,
  "nbformat_minor": 0
}